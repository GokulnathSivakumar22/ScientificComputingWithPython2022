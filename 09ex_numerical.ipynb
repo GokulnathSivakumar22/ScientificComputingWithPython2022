{
 "cells": [
  {
   "cell_type": "code",
   "execution_count": 1,
   "id": "d103de72",
   "metadata": {
    "scrolled": true
   },
   "outputs": [
    {
     "ename": "AttributeError",
     "evalue": "module 'scipy' has no attribute 'optimize'",
     "output_type": "error",
     "traceback": [
      "\u001b[1;31m---------------------------------------------------------------------------\u001b[0m",
      "\u001b[1;31mAttributeError\u001b[0m                            Traceback (most recent call last)",
      "\u001b[1;32m~\\AppData\\Local\\Temp\\ipykernel_21112\\2288472098.py\u001b[0m in \u001b[0;36m<module>\u001b[1;34m\u001b[0m\n\u001b[0;32m     13\u001b[0m \u001b[0mpylab\u001b[0m\u001b[1;33m.\u001b[0m\u001b[0mimshow\u001b[0m\u001b[1;33m(\u001b[0m\u001b[0mf\u001b[0m\u001b[1;33m(\u001b[0m\u001b[1;33m[\u001b[0m\u001b[0mxp\u001b[0m\u001b[1;33m,\u001b[0m\u001b[0myp\u001b[0m\u001b[1;33m]\u001b[0m\u001b[1;33m)\u001b[0m\u001b[1;33m,\u001b[0m\u001b[0mextent\u001b[0m\u001b[1;33m=\u001b[0m\u001b[1;33m[\u001b[0m\u001b[1;33m-\u001b[0m\u001b[1;36m2\u001b[0m\u001b[1;33m,\u001b[0m\u001b[1;36m2\u001b[0m\u001b[1;33m,\u001b[0m\u001b[1;33m-\u001b[0m\u001b[1;36m1\u001b[0m\u001b[1;33m,\u001b[0m\u001b[1;36m1\u001b[0m\u001b[1;33m]\u001b[0m\u001b[1;33m,\u001b[0m \u001b[0morigin\u001b[0m\u001b[1;33m=\u001b[0m\u001b[1;34m'lower'\u001b[0m\u001b[1;33m)\u001b[0m\u001b[1;33m\u001b[0m\u001b[1;33m\u001b[0m\u001b[0m\n\u001b[0;32m     14\u001b[0m \u001b[0mpylab\u001b[0m\u001b[1;33m.\u001b[0m\u001b[0mcolorbar\u001b[0m\u001b[1;33m(\u001b[0m\u001b[1;33m)\u001b[0m\u001b[1;33m\u001b[0m\u001b[1;33m\u001b[0m\u001b[0m\n\u001b[1;32m---> 15\u001b[1;33m \u001b[0msolution\u001b[0m\u001b[1;33m=\u001b[0m\u001b[0msp\u001b[0m\u001b[1;33m.\u001b[0m\u001b[0moptimize\u001b[0m\u001b[1;33m.\u001b[0m\u001b[0mminimize\u001b[0m\u001b[1;33m(\u001b[0m\u001b[0mf\u001b[0m\u001b[1;33m,\u001b[0m\u001b[0mx0\u001b[0m\u001b[1;33m)\u001b[0m\u001b[1;33m\u001b[0m\u001b[1;33m\u001b[0m\u001b[0m\n\u001b[0m\u001b[0;32m     16\u001b[0m \u001b[1;31m#solution=sp.optimize.basinhopping(f,x0)\u001b[0m\u001b[1;33m\u001b[0m\u001b[1;33m\u001b[0m\u001b[1;33m\u001b[0m\u001b[0m\n\u001b[0;32m     17\u001b[0m \u001b[0mprint\u001b[0m\u001b[1;33m(\u001b[0m\u001b[0msolution\u001b[0m\u001b[1;33m)\u001b[0m\u001b[1;33m\u001b[0m\u001b[1;33m\u001b[0m\u001b[0m\n",
      "\u001b[1;31mAttributeError\u001b[0m: module 'scipy' has no attribute 'optimize'"
     ]
    },
    {
     "data": {
      "image/png": "[encoded data removed]",
      "text/plain": [
       "<Figure size 640x480 with 2 Axes>"
      ]
     },
     "metadata": {},
     "output_type": "display_data"
    }
   ],
   "source": [
    "#2D minimization of a six-hump camelback function\n",
    "import numpy as np\n",
    "import scipy as sp\n",
    "import pylab\n",
    "import matplotlib.pyplot as plt\n",
    "\n",
    "def f(x):\n",
    "    return (4-2.1*x[0]**2+(x[0]**4)/3)*x[0]**2+x[0]*x[1]+(4*x[1]**2-4)*x[1]**2\n",
    "x0=[1,1]\n",
    "x=np.linspace(-2, 2)\n",
    "y=np.linspace(-1,1)\n",
    "xp,yp=np.meshgrid(x,y)\n",
    "pylab.imshow(f([xp,yp]),extent=[-2,2,-1,1], origin='lower')\n",
    "pylab.colorbar()\n",
    "solution=sp.optimize.minimize(f,x0)\n",
    "#solution=sp.optimize.basinhopping(f,x0)\n",
    "print(solution)"
   ]
  },
  {
   "cell_type": "code",
   "execution_count": null,
   "id": "5ad0b1cb",
   "metadata": {},
   "outputs": [],
   "source": [
    "#Non-linear ODE: the damped pendulum\n",
    "def derivative(O, time, Q, d, omega):\n",
    "    return(O[1], -1/Q * O[0] + np.sin(O[1]) + d*np.cos(omega*time))\n",
    "Oinit=[0,0]\n",
    "Q=2\n",
    "d=1.5\n",
    "omega=0.65\n",
    "t=np.linspace(0,240,200)\n",
    "#O=sp.integrate.odeint(derivative, Oinit, t, args=(Q, d, omega))\n",
    "O=sp.integrate.odeint(derivative, Oinit, t, args=(Q, d, omega))\n",
    "plt.figure(figsize=(20, 7))\n",
    "plt.plot(t, O[:, 0], label=\"$theta$\")\n",
    "plt.plot(t, O[:, 1], label=\"$omega$\",color='orange')\n",
    "plt.xlabel('t')\n",
    "plt.ylabel('A')\n",
    "plt.legend(loc='best')\n",
    "plt.grid()"
   ]
  },
  {
   "cell_type": "code",
   "execution_count": null,
   "id": "6e1afc74",
   "metadata": {},
   "outputs": [],
   "source": [
    "#FFT of a simple dataset\n",
    "data=np.loadtxt('data/populations.txt')\n",
    "data_c=data[:,1:4]\n",
    "years=data[:,0]\n",
    "hares=data[:,1]\n",
    "lynx=data[:,2]\n",
    "carrots=data[:,3]\n",
    "#perform fft\n",
    "hares_fft=sp.fftpack.fft(hares)\n",
    "lynx_fft=sp.fftpack.fft(lynx)\n",
    "\n",
    "#get the power spectral density\n",
    "hares_psd=np.abs(hares_fft)**2\n",
    "lynx_psd=np.abs(lynx_fft)**2\n",
    "\n",
    "fftfreq=sp.fftpack.fftfreq(len(lynx_psd), 1/21)\n",
    "spect=fftfreq>=0\n",
    "\n",
    "#plot the hares fft\n",
    "plt.figure(figsize=(8, 6))\n",
    "plt.plot(fftfreq[spect], hares_psd[spect])\n",
    "plt.xlabel('Frequency(1/2 years)')\n",
    "plt.ylabel('Hares_psd')\n",
    "plt.yscale('log')\n",
    "plt.grid()\n",
    "\n",
    "#plot the lynx fft\n",
    "plt.figure(figsize=(8, 6))\n",
    "plt.plot(fftfreq[spect], lynx_psd[spect])\n",
    "plt.xlabel('Frequency(1/2 years)')\n",
    "plt.ylabel('Lynx_psd')\n",
    "plt.yscale('log')\n",
    "plt.grid()"
   ]
  },
  {
   "cell_type": "code",
   "execution_count": null,
   "id": "4d821984",
   "metadata": {},
   "outputs": [],
   "source": [
    "#FFT of an image\n",
    "im = plt.imread('images/moonlanding.png').astype(float)\n",
    "\n",
    "plt.figure()\n",
    "plt.imshow(im, plt.cm.gray)\n",
    "plt.title('Original image')\n",
    "im_fft = sp.fftpack.fft2(im)\n",
    "\n",
    "# Show the results\n",
    "\n",
    "def plot_spectrum(im_fft):\n",
    "    from matplotlib.colors import LogNorm\n",
    "    # A logarithmic colormap\n",
    "    plt.imshow(np.abs(im_fft), norm=LogNorm(vmin=5))\n",
    "    plt.colorbar()\n",
    "\n",
    "plt.figure()\n",
    "plot_spectrum(im_fft)\n",
    "plt.title('Fourier transform')\n",
    "\n",
    "# In the lines following, we'll make a copy of the original spectrum and\n",
    "# truncate coefficients.\n",
    "\n",
    "# Define the fraction of coefficients (in each direction) we keep\n",
    "keep_fraction = 0.1\n",
    "\n",
    "# Call ff a copy of the original transform. Numpy arrays have a copy\n",
    "# method for this purpose.\n",
    "im_fft2 = im_fft.copy()\n",
    "\n",
    "# Set r and c to be the number of rows and columns of the array.\n",
    "r, c = im_fft2.shape\n",
    "\n",
    "# Set to zero all rows with indices between r*keep_fraction and\n",
    "# r*(1-keep_fraction):\n",
    "im_fft2[int(r*keep_fraction):int(r*(1-keep_fraction))] = 0\n",
    "\n",
    "# Similarly with the columns:\n",
    "im_fft2[:, int(c*keep_fraction):int(c*(1-keep_fraction))] = 0\n",
    "\n",
    "plt.figure()\n",
    "plot_spectrum(im_fft2)\n",
    "plt.title('Filtered Spectrum')\n",
    "\n",
    "# Reconstruct the denoised image from the filtered spectrum, keep only the\n",
    "# real part for display.\n",
    "im_new = sp.fftpack.ifft2(im_fft2).real\n",
    "\n",
    "plt.figure()\n",
    "plt.imshow(im_new, plt.cm.gray)\n",
    "plt.title('Reconstructed Image')"
   ]
  }
 ],
 "metadata": {
  "kernelspec": {
   "display_name": "Python 3 (ipykernel)",
   "language": "python",
   "name": "python3"
  },
  "language_info": {
   "codemirror_mode": {
    "name": "ipython",
    "version": 3
   },
   "file_extension": ".py",
   "mimetype": "text/x-python",
   "name": "python",
   "nbconvert_exporter": "python",
   "pygments_lexer": "ipython3",
   "version": "3.7.1"
  }
 },
 "nbformat": 4,
 "nbformat_minor": 5
}
