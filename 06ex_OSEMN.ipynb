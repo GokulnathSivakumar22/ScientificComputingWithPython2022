{
 "cells": [
  {
   "cell_type": "code",
   "execution_count": 1,
   "metadata": {},
   "outputs": [],
   "source": [
    "import pandas as pd\n",
    "import numpy as np\n",
    "import csv"
   ]
  },
  {
   "cell_type": "markdown",
   "metadata": {},
   "source": [
    "1\\. **Text files**\n",
    "\n",
    "Perform the following operations on plain `txt` files:\n",
    "\n",
    "+ create a list of integrer numbers and then save it to a text file named `data_int.txt`. Run the `cat` command to print the content of the file.\n",
    "+ create a matrix of 5x5 floats and then save it to a text file named `data_float.txt`. Use the `cat` command to print the content of the file.\n",
    "+ load the `txt` file of the previous point and convert it to a `csv` file by hand."
   ]
  },
  {
   "cell_type": "code",
   "execution_count": 4,
   "metadata": {},
   "outputs": [
    {
     "name": "stdout",
     "output_type": "stream",
     "text": [
      "list l:\n",
      "  [7, 6, 7, 9, 4, 4, 4, 2, 5, 5] \n",
      "\n",
      "loded txt list file:\n",
      "7 6 7 9 4 4 4 2 5 5 \n",
      "\n",
      "\n",
      "random 5*5 matrix:\n",
      " [[0.03128159 0.97768868 0.83113427 0.05678729 0.06104486]\n",
      " [0.99099517 0.46205701 0.49435832 0.22129369 0.33182976]\n",
      " [0.90700876 0.9881851  0.13900859 0.85053668 0.71044027]\n",
      " [0.57333677 0.02926984 0.16982994 0.35206327 0.36799119]\n",
      " [0.23349939 0.67170138 0.32208409 0.17499523 0.78240004]] \n",
      "\n",
      "data_float:\n",
      "0.03 0.98 0.83 0.06 0.06\n",
      "\n",
      "\n",
      "0.99 0.46 0.49 0.22 0.33\n",
      "0.91 0.99 0.14 0.85 0.71\n",
      "0.57 0.03 0.17 0.35 0.37\n",
      "0.23 0.67 0.32 0.17 0.78\n",
      "loded txt file: \n",
      " 0.03 0.98 0.83 0.06 0.06\n",
      "0.99 0.46 0.49 0.22 0.33\n",
      "0.91 0.99 0.14 0.85 0.71\n",
      "0.57 0.03 0.17 0.35 0.37\n",
      "0.23 0.67 0.32 0.17 0.78\n",
      "\n",
      "csv file: \n",
      "0.03,0.98,0.83,0.06,0.06\n",
      "\n",
      "0.99,0.46,0.49,0.22,0.33\n",
      "\n",
      "0.91,0.99,0.14,0.85,0.71\n",
      "\n",
      "0.57,0.03,0.17,0.35,0.37\n",
      "\n",
      "0.23,0.67,0.32,0.17,0.78\n",
      "\n",
      "\n",
      "\n"
     ]
    }
   ],
   "source": [
    "#1\n",
    "from random import random, seed\n",
    "L = [ int(random()*10) for i in range(10) ]\n",
    "print(\"list l:\\n \", L, \"\\n\")\n",
    "with open(\"./data_int.txt\", mode = 'w') as f:\n",
    "    #f.write(str(L))\n",
    "    for item in L:\n",
    "        f.write(\"%s \" % item)\n",
    "print(\"loded txt list file:\")        \n",
    "!cat ./data_int.txt \n",
    "print('\\n')\n",
    "#2\n",
    "b= np.random.random((5,5))\n",
    "mat = np.matrix(b)\n",
    "print(\"random 5*5 matrix:\\n\", mat, \"\\n\")    \n",
    "with open('data_float.txt','wb') as f:\n",
    "    #f.write(str(mat))\n",
    "    for line in mat:\n",
    "        np.savetxt(f, line, fmt='%.2f')\n",
    "\n",
    "print(\"data_float:\")\n",
    "!cat ./data_float.txt \n",
    "print('\\n')\n",
    "#3\n",
    "f = open('./data_float.txt', 'r')\n",
    "textContent = f.read()\n",
    "print(\"loded txt file: \\n\", textContent)\n",
    "f.close()\n",
    "import zlib\n",
    "lines = textContent.splitlines()\n",
    "rawContent = [line.split(' ') for line in lines]\n",
    "rows = zip(*[rawContent]*1)\n",
    "with open('data_float.csv', 'w') as out_file:\n",
    "    writer = csv.writer(out_file)\n",
    "    for row in rows:\n",
    "        writer.writerows(row)\n",
    "print(\"csv file: \")\n",
    "!cat ./data_float.csv \n",
    "print('\\n')"
   ]
  },
  {
   "cell_type": "markdown",
   "metadata": {},
   "source": [
    "2\\. **JSON files**\n",
    "\n",
    "Load the file *user_data.json*, which can be found at:\n",
    "\n",
    "- https://www.dropbox.com/s/sz5klcdpckc39hd/user_data.json\n",
    "\n",
    "and filter the data by the \"CreditCardType\" when it equals to \"American Express\". Than save the data to a new CSV file."
   ]
  },
  {
   "cell_type": "code",
   "execution_count": 9,
   "metadata": {},
   "outputs": [
    {
     "ename": "FileNotFoundError",
     "evalue": "[Errno 2] No such file or directory: 'user_data.json'",
     "output_type": "error",
     "traceback": [
      "\u001b[1;31m---------------------------------------------------------------------------\u001b[0m",
      "\u001b[1;31mFileNotFoundError\u001b[0m                         Traceback (most recent call last)",
      "\u001b[1;32m~\\AppData\\Local\\Temp\\ipykernel_25624\\1121132788.py\u001b[0m in \u001b[0;36m<module>\u001b[1;34m\u001b[0m\n\u001b[0;32m      3\u001b[0m \u001b[1;32mimport\u001b[0m \u001b[0mcsv\u001b[0m\u001b[1;33m\u001b[0m\u001b[1;33m\u001b[0m\u001b[0m\n\u001b[0;32m      4\u001b[0m \u001b[1;32mimport\u001b[0m \u001b[0mjson\u001b[0m\u001b[1;33m\u001b[0m\u001b[1;33m\u001b[0m\u001b[0m\n\u001b[1;32m----> 5\u001b[1;33m \u001b[0md\u001b[0m \u001b[1;33m=\u001b[0m \u001b[0mjson\u001b[0m\u001b[1;33m.\u001b[0m\u001b[0mload\u001b[0m\u001b[1;33m(\u001b[0m\u001b[0mopen\u001b[0m\u001b[1;33m(\u001b[0m\u001b[1;34m'user_data.json'\u001b[0m\u001b[1;33m)\u001b[0m\u001b[1;33m)\u001b[0m\u001b[1;33m\u001b[0m\u001b[1;33m\u001b[0m\u001b[0m\n\u001b[0m\u001b[0;32m      6\u001b[0m \u001b[1;33m\u001b[0m\u001b[0m\n\u001b[0;32m      7\u001b[0m \u001b[0mheader\u001b[0m \u001b[1;33m=\u001b[0m \u001b[1;33m[\u001b[0m\u001b[1;34m\"ID\"\u001b[0m\u001b[1;33m,\u001b[0m\u001b[1;34m\"JobTitle\"\u001b[0m\u001b[1;33m,\u001b[0m\u001b[1;34m\"EmailAddress\"\u001b[0m\u001b[1;33m,\u001b[0m\u001b[1;34m\"FirstNameLastName\"\u001b[0m\u001b[1;33m,\u001b[0m\u001b[1;34m\"CreditCard\"\u001b[0m\u001b[1;33m,\u001b[0m \u001b[1;34m\"CreditCardType\"\u001b[0m\u001b[1;33m]\u001b[0m\u001b[1;33m\u001b[0m\u001b[1;33m\u001b[0m\u001b[0m\n",
      "\u001b[1;31mFileNotFoundError\u001b[0m: [Errno 2] No such file or directory: 'user_data.json'"
     ]
    }
   ],
   "source": [
    "import numpy as np\n",
    "import pandas as pd\n",
    "import csv\n",
    "import json    \n",
    "d = json.load(open('user_data.json'))\n",
    "\n",
    "header = [\"ID\",\"JobTitle\",\"EmailAddress\",\"FirstNameLastName\",\"CreditCard\", \"CreditCardType\"]\n",
    "l=[]\n",
    "for a in d:\n",
    "    if a['CreditCardType'] == 'American Express':\n",
    "        array= [a[\"ID\"], a[\"JobTitle\"], a[\"EmailAddress\"],a[\"FirstNameLastName\"],a[\"CreditCard\"],a[\"CreditCardType\"]]\n",
    "        l.append(array)\n",
    "\n",
    "\n",
    "with open('jsonfiltered.csv','w') as csv_file:\n",
    "    writer = csv.writer(csv_file)\n",
    "    writer.writerow(header)\n",
    "    writer.writerow(l) \n",
    "\n",
    "print(\"csv file: \")\n",
    "!cat jsonfiltered.csv "
   ]
  },
  {
   "cell_type": "markdown",
   "metadata": {},
   "source": [
    "3\\. **CSV files with Pandas**\n",
    "\n",
    "Load the file from this url:\n",
    "\n",
    "- https://www.dropbox.com/s/kgshemfgk22iy79/mushrooms_categorized.csv\n",
    "\n",
    "with Pandas. \n",
    "\n",
    "+ explore and print the DataFrame\n",
    "+ calculate, using `groupby()`, the average value of each feature, separately for each class\n",
    "+ save the file in a JSON format."
   ]
  },
  {
   "cell_type": "code",
   "execution_count": null,
   "metadata": {},
   "outputs": [],
   "source": [
    "import numpy as np\n",
    "import pandas as pd\n",
    "import csv\n",
    "\n",
    "file_1 = \"mushrooms_categorized.csv\"\n",
    "data_1 = pd.read_csv(file_1)\n",
    "\n",
    "\n",
    "gb = data_1.groupby(['class']).mean()\n",
    "\n",
    "data_frame = pd.DataFrame(gb)\n",
    "\n",
    "data_frame.to_json(r'./export_mean_json.json', orient = 'index')"
   ]
  },
  {
   "cell_type": "markdown",
   "metadata": {},
   "source": [
    "4\\. **Reading the credit card numbers**\n",
    "\n",
    "Get the binary file named *credit_card.dat* from this address:\n",
    "\n",
    "- https://www.dropbox.com/s/8m0syw2tkul3dap/credit_card.dat\n",
    "\n",
    "and convert the data into the real credit card number, knowing that:\n",
    "- each line corresponds to a credit card number, which consists of 16 characters (which are numbers in the 0-9 range) divided in 4 blocks, with a whitespace between each block\n",
    "- each character is written using a 6 bit binary representation (including the whitespace)\n",
    "- the final 4 bits of each line are a padding used to determine the end of the line, and can be ignored\n",
    "\n",
    "*Hint*: convert the binary numbers to the decimal representation first, and then use the `chr()` function to convert the latter to a char"
   ]
  },
  {
   "cell_type": "code",
   "execution_count": 10,
   "metadata": {},
   "outputs": [
    {
     "ename": "FileNotFoundError",
     "evalue": "[Errno 2] No such file or directory: 'credit_card.dat'",
     "output_type": "error",
     "traceback": [
      "\u001b[1;31m---------------------------------------------------------------------------\u001b[0m",
      "\u001b[1;31mFileNotFoundError\u001b[0m                         Traceback (most recent call last)",
      "\u001b[1;32m~\\AppData\\Local\\Temp\\ipykernel_25624\\4268566053.py\u001b[0m in \u001b[0;36m<module>\u001b[1;34m\u001b[0m\n\u001b[0;32m      4\u001b[0m \u001b[1;32mimport\u001b[0m \u001b[0mmath\u001b[0m \u001b[1;32mas\u001b[0m \u001b[0mm\u001b[0m\u001b[1;33m\u001b[0m\u001b[1;33m\u001b[0m\u001b[0m\n\u001b[0;32m      5\u001b[0m \u001b[1;33m\u001b[0m\u001b[0m\n\u001b[1;32m----> 6\u001b[1;33m \u001b[1;32mwith\u001b[0m \u001b[0mopen\u001b[0m\u001b[1;33m(\u001b[0m\u001b[1;34m'credit_card.dat'\u001b[0m\u001b[1;33m,\u001b[0m \u001b[1;34m'rb'\u001b[0m\u001b[1;33m)\u001b[0m \u001b[1;32mas\u001b[0m \u001b[0mfile\u001b[0m\u001b[1;33m:\u001b[0m\u001b[1;33m\u001b[0m\u001b[1;33m\u001b[0m\u001b[0m\n\u001b[0m\u001b[0;32m      7\u001b[0m     \u001b[0mfile_content\u001b[0m \u001b[1;33m=\u001b[0m \u001b[0mfile\u001b[0m\u001b[1;33m.\u001b[0m\u001b[0mreadlines\u001b[0m\u001b[1;33m(\u001b[0m\u001b[1;33m)\u001b[0m\u001b[1;33m\u001b[0m\u001b[1;33m\u001b[0m\u001b[0m\n\u001b[0;32m      8\u001b[0m \u001b[1;33m\u001b[0m\u001b[0m\n",
      "\u001b[1;31mFileNotFoundError\u001b[0m: [Errno 2] No such file or directory: 'credit_card.dat'"
     ]
    }
   ],
   "source": [
    "import pandas as pd\n",
    "import numpy as np\n",
    "import csv\n",
    "import math as m\n",
    "\n",
    "with open('credit_card.dat', 'rb') as file:\n",
    "    file_content = file.readlines()\n",
    "\n",
    "    allcarts =[]\n",
    "    word_counter = 0\n",
    "    word_size = 8 \n",
    "    total_digitnumber = 16+3 \n",
    "    digit_length = 6         \n",
    "\n",
    "    for row in file_content:\n",
    "\n",
    "        if(round(len(row)/digit_length) >= total_digitnumber):\n",
    "\n",
    "            utf_string = row.decode(\"utf-8\")  \n",
    "\n",
    "            utf_string = utf_string[:-4]     \n",
    "\n",
    "\n",
    "            start_index = 0\n",
    "            card_number=[]\n",
    "\n",
    "            for i in range(total_digitnumber):\n",
    "                end_index = start_index + digit_length\n",
    "                digits_4 = utf_string[start_index:end_index]\n",
    "                card_number.append(digits_4)\n",
    "                start_index += digit_length    \n",
    "\n",
    "            credit_card = \"\"\n",
    "            for i in range(total_digitnumber):\n",
    "                credit_card += chr(int(card_number[i],2))\n",
    "\n",
    "            allcarts.append(credit_card)\n",
    "\n",
    "    print(\"Number of all the Credit Card is :\\n\") \n",
    "    for i in allcarts:\n",
    "        print(i, \"\\n\")"
   ]
  },
  {
   "cell_type": "markdown",
   "metadata": {},
   "source": [
    "5\\. **Write data to a binary file**\n",
    "\n",
    "a) Start from the `data/data_000637.txt` file that we have used during the previous lectures, and convert it to a binary file according to the format defined below:"
   ]
  },
  {
   "cell_type": "code",
   "execution_count": null,
   "metadata": {},
   "outputs": [],
   "source": [
    "from IPython.display import Image\n",
    "Image(\"images/data_format.png\")"
   ]
  },
  {
   "cell_type": "markdown",
   "metadata": {},
   "source": [
    "*Hints*:\n",
    "- Read the first 10 lines using Pandas\n",
    "- Iterate over the DataFrame rows\n",
    "- For every row, ``pack'' the values (features) into a single 64-bit word, according to the format specified above. Use bit-wise shifts and operators to do so.\n",
    "- Write each 64-bit word to a binary file. You can use `struct` in this way:\n",
    "```\n",
    "binary_file.write( struct.pack('<q', word) )\n",
    "```\n",
    "where `word` is the 64-bit word.\n",
    "- Close the file after completing the loop.\n",
    "\n",
    "b) Check that the binary file is correctly written by reading it with the code used in the lecture `06_OSEMN.ipynb`, and verify that the content of the `txt` and binary files is consistent.\n",
    "\n",
    "c) What is the difference of the size on disk between equivalent `txt` and binary files?"
   ]
  },
  {
   "cell_type": "code",
   "execution_count": null,
   "metadata": {},
   "outputs": [],
   "source": []
  }
 ],
 "metadata": {
  "kernelspec": {
   "display_name": "Python 3 (ipykernel)",
   "language": "python",
   "name": "python3"
  },
  "language_info": {
   "codemirror_mode": {
    "name": "ipython",
    "version": 3
   },
   "file_extension": ".py",
   "mimetype": "text/x-python",
   "name": "python",
   "nbconvert_exporter": "python",
   "pygments_lexer": "ipython3",
   "version": "3.7.1"
  }
 },
 "nbformat": 4,
 "nbformat_minor": 2
}
